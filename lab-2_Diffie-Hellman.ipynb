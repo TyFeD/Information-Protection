{
 "cells": [
  {
   "cell_type": "code",
   "execution_count": 1,
   "metadata": {},
   "outputs": [],
   "source": [
    "import random\n",
    "import math"
   ]
  },
  {
   "cell_type": "code",
   "execution_count": 2,
   "metadata": {},
   "outputs": [],
   "source": [
    "def miller_rabin(n, k):\n",
    "\n",
    "    if n == 2:\n",
    "        return True\n",
    "\n",
    "    if n % 2 == 0:\n",
    "        return False\n",
    "\n",
    "    r, s = 0, n - 1\n",
    "    \n",
    "    while s % 2 == 0:\n",
    "        r += 1\n",
    "        s //= 2\n",
    "        \n",
    "    for _ in range(k):\n",
    "        a = random.randrange(2, n - 1)\n",
    "        x = pow(a, s, n)\n",
    "        \n",
    "        if x == 1 or x == n - 1:\n",
    "            continue\n",
    "            \n",
    "        for _ in range(r - 1):\n",
    "            x = pow(x, 2, n)\n",
    "            if x == n - 1:\n",
    "                break\n",
    "        else:\n",
    "            return False\n",
    "        \n",
    "    return True"
   ]
  },
  {
   "cell_type": "code",
   "execution_count": 3,
   "metadata": {},
   "outputs": [],
   "source": [
    "class diffie_hellman(object):\n",
    "    \n",
    "    def __init__(self, public_key1, public_key2, private_key):\n",
    "        self.public_key1 = public_key1\n",
    "        self.public_key2 = public_key2\n",
    "        self.private_key = private_key\n",
    "        self.full_key = None\n",
    "        \n",
    "        \n",
    "    def generate_partial_key(self):\n",
    "        partial_key = self.public_key1**self.private_key\n",
    "        partial_key = partial_key % self.public_key2\n",
    "        \n",
    "        return partial_key\n",
    "    \n",
    "    \n",
    "    def generate_full_key(self, partial_key_r):\n",
    "        full_key = partial_key_r**self.private_key\n",
    "        full_key = full_key%self.public_key2\n",
    "        self.full_key = full_key\n",
    "        \n",
    "        return full_key\n",
    "    \n",
    "    \n",
    "    def encrypt_message(self, message):\n",
    "        encrypted_message = \"\"\n",
    "        key = self.full_key\n",
    "        \n",
    "        for c in message:\n",
    "            encrypted_message += chr(ord(c)+key)\n",
    "            \n",
    "        return encrypted_message\n",
    "    \n",
    "    \n",
    "    def decrypt_message(self, message):\n",
    "        decrypted_message = \"\"\n",
    "        key = self.full_key\n",
    "        \n",
    "        for c in message:\n",
    "            decrypted_message += chr(ord(c)-key)\n",
    "            \n",
    "        return decrypted_message"
   ]
  },
  {
   "cell_type": "code",
   "execution_count": null,
   "metadata": {},
   "outputs": [],
   "source": []
  },
  {
   "cell_type": "code",
   "execution_count": 4,
   "metadata": {},
   "outputs": [
    {
     "name": "stdout",
     "output_type": "stream",
     "text": [
      "Bob_private_key: 585\n",
      "Bob_public_key: 430\n",
      "Alisa_public_key: 433\n",
      "Alisa_private_key: 873\n"
     ]
    }
   ],
   "source": [
    "message = \"Я хочу пиццу!!!\"\n",
    "\n",
    "m = 1000\n",
    "a1 = 0\n",
    "a2 = 0\n",
    "a3 = 0\n",
    "a4 = 0\n",
    "\n",
    "while 1:\n",
    "    \n",
    "    if(miller_rabin(random.randint(2, m-1),m) and not a1):\n",
    "        Alisa_public_key = random.randint(2, m-1)\n",
    "        print('Alisa_public_key:', Alisa_public_key)\n",
    "        a1 = 1\n",
    "        \n",
    "    if(miller_rabin(random.randint(2, m-1),m)and not a2):\n",
    "        Alisa_private_key = random.randint(2, m-1)\n",
    "        print('Alisa_private_key:', Alisa_private_key)\n",
    "        a2 = 1\n",
    "        \n",
    "    if(miller_rabin(random.randint(2, m-1),m) and not a3):\n",
    "        Bob_public_key = random.randint(2, m-1)\n",
    "        print('Bob_public_key:', Bob_public_key)\n",
    "        a3 = 1\n",
    "        \n",
    "    if(miller_rabin(random.randint(2, m-1),m) and not a4):\n",
    "        Bob_private_key = random.randint(2, m-1)\n",
    "        print('Bob_private_key:', Bob_private_key)\n",
    "        a4 = 1\n",
    "        \n",
    "    if(a1 and a2 and a3 and a4):\n",
    "        break\n",
    "\n",
    "Alisa = diffie_hellman(Alisa_public_key, Bob_public_key, Alisa_private_key)\n",
    "Bob = diffie_hellman(Alisa_public_key, Bob_public_key, Bob_private_key)"
   ]
  },
  {
   "cell_type": "code",
   "execution_count": 5,
   "metadata": {},
   "outputs": [
    {
     "name": "stdout",
     "output_type": "stream",
     "text": [
      "383\n"
     ]
    }
   ],
   "source": [
    "Alisa_partial_key = Alisa.generate_partial_key()\n",
    "print(Alisa_partial_key)"
   ]
  },
  {
   "cell_type": "code",
   "execution_count": 6,
   "metadata": {},
   "outputs": [
    {
     "name": "stdout",
     "output_type": "stream",
     "text": [
      "223\n"
     ]
    }
   ],
   "source": [
    "Bob_partial_key = Bob.generate_partial_key()\n",
    "print(Bob_partial_key)"
   ]
  },
  {
   "cell_type": "code",
   "execution_count": 7,
   "metadata": {},
   "outputs": [
    {
     "name": "stdout",
     "output_type": "stream",
     "text": [
      "303\n"
     ]
    }
   ],
   "source": [
    "Alisa_full_key = Alisa.generate_full_key(Bob_partial_key)\n",
    "print(Alisa_full_key)"
   ]
  },
  {
   "cell_type": "code",
   "execution_count": 8,
   "metadata": {},
   "outputs": [
    {
     "name": "stdout",
     "output_type": "stream",
     "text": [
      "303\n"
     ]
    }
   ],
   "source": [
    "Bob_full_key = Bob.generate_full_key(Alisa_partial_key)\n",
    "print(Bob_full_key)"
   ]
  },
  {
   "cell_type": "code",
   "execution_count": 9,
   "metadata": {},
   "outputs": [
    {
     "name": "stdout",
     "output_type": "stream",
     "text": [
      "՞ŏմխնղŏծէյյղŐŐŐ\n"
     ]
    }
   ],
   "source": [
    "Bob_encrypted = Bob.encrypt_message(message)\n",
    "print(Bob_encrypted)"
   ]
  },
  {
   "cell_type": "code",
   "execution_count": 10,
   "metadata": {},
   "outputs": [
    {
     "name": "stdout",
     "output_type": "stream",
     "text": [
      "Я хочу пиццу!!!\n"
     ]
    }
   ],
   "source": [
    "message = Alisa.decrypt_message(Bob_encrypted)\n",
    "print(message)"
   ]
  },
  {
   "cell_type": "code",
   "execution_count": null,
   "metadata": {},
   "outputs": [],
   "source": []
  }
 ],
 "metadata": {
  "kernelspec": {
   "display_name": "Python 3",
   "language": "python",
   "name": "python3"
  },
  "language_info": {
   "codemirror_mode": {
    "name": "ipython",
    "version": 3
   },
   "file_extension": ".py",
   "mimetype": "text/x-python",
   "name": "python",
   "nbconvert_exporter": "python",
   "pygments_lexer": "ipython3",
   "version": "3.7.4"
  }
 },
 "nbformat": 4,
 "nbformat_minor": 2
}
