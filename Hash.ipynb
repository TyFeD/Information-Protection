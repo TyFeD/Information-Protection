{
 "cells": [
  {
   "cell_type": "code",
   "execution_count": 1,
   "metadata": {},
   "outputs": [],
   "source": [
    "def number (x):\n",
    "    x+=256\n",
    "    while not(((x <= 57) & (x >= 48)) | ((x <= 90) & (x >= 65)) | ((x <= 122) & (x >= 97))):\n",
    "        if (x < 48): \n",
    "            x+=24 \n",
    "        else:\n",
    "            x-=47\n",
    "    return x"
   ]
  },
  {
   "cell_type": "code",
   "execution_count": 5,
   "metadata": {},
   "outputs": [
    {
     "data": {
      "text/plain": [
       "117"
      ]
     },
     "execution_count": 5,
     "metadata": {},
     "output_type": "execute_result"
    }
   ],
   "source": [
    "number(2)"
   ]
  },
  {
   "cell_type": "code",
   "execution_count": 5,
   "metadata": {},
   "outputs": [],
   "source": [
    "def my_hash(v):\n",
    "    len = v.size()# определяем длину входного блока\n",
    "    min = 64 # минимальный блок\n",
    "    while min < len : \n",
    "        min*=2; # блок должен быть 64, 128, 256, 512 бит и т.д.\n",
    "    if ((min - len) < 64):\n",
    "        min*=2; # если количество информации, которое требуется дописать меньше 64, то будем дописывать еще\n",
    "    add = min-len # количество информации, которую нужно добавить\n",
    "    \n",
    "    salt = 0 # соль на основе суммы кодов всех символов и длины\n",
    "    for i in range(size(v)):\n",
    "        salt+=v[i] # собираем из кодов всех символов соль\n",
    "    salt = number(salt-len) # добавляем в соль длину\n",
    "    for i in range(add): \n",
    "        v.push_back(number(i*salt*v[i])) # дописываем информацию на основе соли, счетчика и входной строки, отбеливаем ее\n",
    "    \n",
    "    prev=[] # выходной вектор\n",
    "    for i in range(size(v)):\n",
    "        prev.push_back(v[i])# переписываем коды символов в выходной вектор\n",
    "    now=[] #промежуточный вектор\n",
    "    \n",
    "    while (prev.size() != 32): # пока размер вектора не станет 32, будем его сокращать\n",
    "        for j in range(size(prev)): \n",
    "            t = prev[j] + prev[j+1] # складываем пары чисел в одно, тем самым уменьшая размер последовательности в 2 раза\n",
    "            now.push_back(t)\n",
    "        \n",
    "        prev = now # промежуточный блок переписываем в выходной вектор\n",
    "        now.clear()\n",
    "        f = [] # конечный хеш\n",
    "    for i in range(size(prev)):\n",
    "        f.push_back(number(prev[i]+i*i)) # отбеливаем полученный вектор\n",
    "    \n",
    "    \n",
    "    hash = '' # строка для результата\n",
    "    for i in range(size(f)):\n",
    "        hash+=f[i];\n",
    "    \n",
    "    return hash;"
   ]
  },
  {
   "cell_type": "code",
   "execution_count": 6,
   "metadata": {},
   "outputs": [
    {
     "name": "stdout",
     "output_type": "stream",
     "text": [
      "asdasdf ;\n",
      ";\n"
     ]
    },
    {
     "ename": "AttributeError",
     "evalue": "'list' object has no attribute 'size'",
     "output_type": "error",
     "traceback": [
      "\u001b[1;31m---------------------------------------------------------------------------\u001b[0m",
      "\u001b[1;31mAttributeError\u001b[0m                            Traceback (most recent call last)",
      "\u001b[1;32m<ipython-input-6-587ff71ece08>\u001b[0m in \u001b[0;36m<module>\u001b[1;34m\u001b[0m\n\u001b[0;32m      8\u001b[0m         \u001b[0mv\u001b[0m\u001b[1;33m.\u001b[0m\u001b[0mappend\u001b[0m\u001b[1;33m(\u001b[0m\u001b[0ms\u001b[0m\u001b[1;33m)\u001b[0m\u001b[1;33m\u001b[0m\u001b[1;33m\u001b[0m\u001b[0m\n\u001b[0;32m      9\u001b[0m \u001b[1;33m\u001b[0m\u001b[0m\n\u001b[1;32m---> 10\u001b[1;33m \u001b[0mprint\u001b[0m\u001b[1;33m(\u001b[0m\u001b[1;34m'Hash: '\u001b[0m\u001b[1;33m,\u001b[0m \u001b[0mmy_hash\u001b[0m\u001b[1;33m(\u001b[0m\u001b[0mv\u001b[0m\u001b[1;33m)\u001b[0m\u001b[1;33m)\u001b[0m\u001b[1;33m\u001b[0m\u001b[1;33m\u001b[0m\u001b[0m\n\u001b[0m",
      "\u001b[1;32m<ipython-input-5-f228bbc70a6d>\u001b[0m in \u001b[0;36mmy_hash\u001b[1;34m(v)\u001b[0m\n\u001b[0;32m      1\u001b[0m \u001b[1;32mdef\u001b[0m \u001b[0mmy_hash\u001b[0m\u001b[1;33m(\u001b[0m\u001b[0mv\u001b[0m\u001b[1;33m)\u001b[0m\u001b[1;33m:\u001b[0m\u001b[1;33m\u001b[0m\u001b[1;33m\u001b[0m\u001b[0m\n\u001b[1;32m----> 2\u001b[1;33m     \u001b[0mlen\u001b[0m \u001b[1;33m=\u001b[0m \u001b[0mv\u001b[0m\u001b[1;33m.\u001b[0m\u001b[0msize\u001b[0m\u001b[1;33m(\u001b[0m\u001b[1;33m)\u001b[0m\u001b[1;31m# определяем длину входного блока\u001b[0m\u001b[1;33m\u001b[0m\u001b[1;33m\u001b[0m\u001b[0m\n\u001b[0m\u001b[0;32m      3\u001b[0m     \u001b[0mmin\u001b[0m \u001b[1;33m=\u001b[0m \u001b[1;36m64\u001b[0m \u001b[1;31m# минимальный блок\u001b[0m\u001b[1;33m\u001b[0m\u001b[1;33m\u001b[0m\u001b[0m\n\u001b[0;32m      4\u001b[0m     \u001b[1;32mwhile\u001b[0m \u001b[0mmin\u001b[0m \u001b[1;33m<\u001b[0m \u001b[0mlen\u001b[0m \u001b[1;33m:\u001b[0m\u001b[1;33m\u001b[0m\u001b[1;33m\u001b[0m\u001b[0m\n\u001b[0;32m      5\u001b[0m         \u001b[0mmin\u001b[0m\u001b[1;33m*=\u001b[0m\u001b[1;36m2\u001b[0m\u001b[1;33m;\u001b[0m \u001b[1;31m# блок должен быть 64, 128, 256, 512 бит и т.д.\u001b[0m\u001b[1;33m\u001b[0m\u001b[1;33m\u001b[0m\u001b[0m\n",
      "\u001b[1;31mAttributeError\u001b[0m: 'list' object has no attribute 'size'"
     ]
    }
   ],
   "source": [
    "v=[]\n",
    "s = ''\n",
    "while (1):\n",
    "    s = input()\n",
    "    if (s == ';'): \n",
    "        break\n",
    "    else:\n",
    "        v.append(s)\n",
    "        \n",
    "print('Hash: ', my_hash(v))"
   ]
  },
  {
   "cell_type": "code",
   "execution_count": null,
   "metadata": {},
   "outputs": [],
   "source": []
  },
  {
   "cell_type": "code",
   "execution_count": null,
   "metadata": {},
   "outputs": [],
   "source": []
  },
  {
   "cell_type": "code",
   "execution_count": null,
   "metadata": {},
   "outputs": [],
   "source": []
  }
 ],
 "metadata": {
  "kernelspec": {
   "display_name": "Python 3",
   "language": "python",
   "name": "python3"
  },
  "language_info": {
   "codemirror_mode": {
    "name": "ipython",
    "version": 3
   },
   "file_extension": ".py",
   "mimetype": "text/x-python",
   "name": "python",
   "nbconvert_exporter": "python",
   "pygments_lexer": "ipython3",
   "version": "3.7.4"
  }
 },
 "nbformat": 4,
 "nbformat_minor": 2
}
