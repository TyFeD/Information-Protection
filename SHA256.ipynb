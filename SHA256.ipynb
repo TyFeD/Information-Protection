{
 "cells": [
  {
   "cell_type": "code",
   "execution_count": 3,
   "metadata": {},
   "outputs": [
    {
     "name": "stdout",
     "output_type": "stream",
     "text": [
      "Enter massage: dsasdfiwef39430iteplgerw\n",
      "<sha256 HASH object @ 0x000001DAECA1FAB0>\n"
     ]
    }
   ],
   "source": [
    "from hashlib import sha256\n",
    "\n",
    "data = input('Enter massage: ')\n",
    "output = sha256(data.encode('utf-8')) # кормим sha256 введенное сообщение, предварительно\n",
    "# закодировав его в UTF-8\n",
    "print(output)"
   ]
  }
 ],
 "metadata": {
  "kernelspec": {
   "display_name": "Python 3",
   "language": "python",
   "name": "python3"
  },
  "language_info": {
   "codemirror_mode": {
    "name": "ipython",
    "version": 3
   },
   "file_extension": ".py",
   "mimetype": "text/x-python",
   "name": "python",
   "nbconvert_exporter": "python",
   "pygments_lexer": "ipython3",
   "version": "3.7.4"
  }
 },
 "nbformat": 4,
 "nbformat_minor": 2
}
