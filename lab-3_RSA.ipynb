{
 "cells": [
  {
   "cell_type": "code",
   "execution_count": 1,
   "metadata": {},
   "outputs": [],
   "source": [
    "import random\n",
    "import math"
   ]
  },
  {
   "cell_type": "code",
   "execution_count": null,
   "metadata": {},
   "outputs": [],
   "source": []
  },
  {
   "cell_type": "code",
   "execution_count": 2,
   "metadata": {},
   "outputs": [],
   "source": [
    "def RSA(p, q):\n",
    "    n = p * q\n",
    "    z = (p - 1) * (q - 1)\n",
    "    e = 0\n",
    "    for i in range(2, z):\n",
    "        if math.gcd(i, z) == 1:\n",
    "            e = i\n",
    "            break\n",
    "    d = 0\n",
    "    for i in range(z):\n",
    "        x = 1+(i*z)\n",
    "        if x % e == 0:\n",
    "            d = int(x / e)\n",
    "            break\n",
    "    return [e, n], [d, n]"
   ]
  },
  {
   "cell_type": "markdown",
   "metadata": {},
   "source": [
    "###  Генерируем простое число"
   ]
  },
  {
   "cell_type": "code",
   "execution_count": 3,
   "metadata": {},
   "outputs": [],
   "source": [
    "def get_prime_number():\n",
    "    while True:\n",
    "        number = random.randint(111, 999)\n",
    "        if  miller_rabin(number,10000) is True: \n",
    "            return number"
   ]
  },
  {
   "cell_type": "code",
   "execution_count": 4,
   "metadata": {},
   "outputs": [],
   "source": [
    "def power(x, y, p):\n",
    "    res = 1\n",
    "    x = x % p\n",
    "    while (y > 0):\n",
    "        if (y & 1):\n",
    "            res = (res * x) % p\n",
    "        y = y >> 1\n",
    "        x = (x * x) % p\n",
    "    return res"
   ]
  },
  {
   "cell_type": "markdown",
   "metadata": {},
   "source": [
    "###  Проверка на простоту"
   ]
  },
  {
   "cell_type": "code",
   "execution_count": 5,
   "metadata": {},
   "outputs": [],
   "source": [
    "def miller_rabin(n, k):\n",
    "\n",
    "    if n == 2:\n",
    "        return True\n",
    "\n",
    "    if n % 2 == 0:\n",
    "        return False\n",
    "\n",
    "    r, s = 0, n - 1\n",
    "    \n",
    "    while s % 2 == 0:\n",
    "        r += 1\n",
    "        s //= 2\n",
    "        \n",
    "    for _ in range(k):\n",
    "        a = random.randrange(2, n - 1)\n",
    "        x = pow(a, s, n)\n",
    "        \n",
    "        if x == 1 or x == n - 1:\n",
    "            continue\n",
    "            \n",
    "        for _ in range(r - 1):\n",
    "            x = pow(x, 2, n)\n",
    "            if x == n - 1:\n",
    "                break\n",
    "        else:\n",
    "            return False\n",
    "        \n",
    "    return True"
   ]
  },
  {
   "cell_type": "code",
   "execution_count": 6,
   "metadata": {},
   "outputs": [],
   "source": [
    "def encrypt(text, key):\n",
    "    encrypt_text = []\n",
    "    for m in text:\n",
    "        encrypt_text.append(pow(ord(m), key[0]) % key[1])\n",
    "    return encrypt_text"
   ]
  },
  {
   "cell_type": "code",
   "execution_count": 7,
   "metadata": {},
   "outputs": [],
   "source": [
    "def decrypt(text, key):\n",
    "    decrypt_text = ''\n",
    "    for m in text:\n",
    "        decrypt_text += chr(pow(m, key[0]) % key[1])\n",
    "    return decrypt_text"
   ]
  },
  {
   "cell_type": "code",
   "execution_count": 8,
   "metadata": {},
   "outputs": [
    {
     "name": "stdout",
     "output_type": "stream",
     "text": [
      "Public Key: [7, 831449]\n",
      "Private Key: [711103, 831449]\n"
     ]
    }
   ],
   "source": [
    "public_key, private_key = RSA(get_prime_number(), get_prime_number())\n",
    "\n",
    "print('Public Key:', public_key)\n",
    "print('Private Key:', private_key)"
   ]
  },
  {
   "cell_type": "markdown",
   "metadata": {},
   "source": [
    "### Кодируемое сообщение "
   ]
  },
  {
   "cell_type": "code",
   "execution_count": 9,
   "metadata": {},
   "outputs": [],
   "source": [
    "text = \"Я хочу пиццу\""
   ]
  },
  {
   "cell_type": "code",
   "execution_count": 10,
   "metadata": {},
   "outputs": [
    {
     "name": "stdout",
     "output_type": "stream",
     "text": [
      "Encrypted text:  [435249, 108443, 451304, 772075, 793750, 226006, 108443, 700349, 82447, 576497, 576497, 226006]\n",
      "Decrypted text: Я хочу пиццу\n"
     ]
    }
   ],
   "source": [
    "encrypted_text = encrypt(text, public_key)\n",
    "print(\"Encrypted text: \", encrypted_text)\n",
    "\n",
    "decrypted_text = decrypt(encrypted_text, private_key)\n",
    "print('Decrypted text:', decrypted_text)"
   ]
  }
 ],
 "metadata": {
  "kernelspec": {
   "display_name": "Python 3",
   "language": "python",
   "name": "python3"
  },
  "language_info": {
   "codemirror_mode": {
    "name": "ipython",
    "version": 3
   },
   "file_extension": ".py",
   "mimetype": "text/x-python",
   "name": "python",
   "nbconvert_exporter": "python",
   "pygments_lexer": "ipython3",
   "version": "3.7.4"
  }
 },
 "nbformat": 4,
 "nbformat_minor": 2
}
