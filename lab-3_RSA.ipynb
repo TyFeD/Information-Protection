{
 "cells": [
  {
   "cell_type": "code",
   "execution_count": 1,
   "metadata": {},
   "outputs": [],
   "source": [
    "import random\n",
    "import math"
   ]
  },
  {
   "cell_type": "code",
   "execution_count": 2,
   "metadata": {},
   "outputs": [],
   "source": [
    "def RSA(p, q):\n",
    "    n = p * q\n",
    "    z = (p - 1) * (q - 1)\n",
    "    e = 0\n",
    "    for i in range(2, z):\n",
    "        if math.gcd(i, z) == 1:\n",
    "            e = i\n",
    "            break\n",
    "    d = 0\n",
    "    for i in range(z):\n",
    "        x = 1+(i*z)\n",
    "        if x % e == 0:\n",
    "            d = int(x / e)\n",
    "            break\n",
    "    return [e, n], [d, n]"
   ]
  },
  {
   "cell_type": "markdown",
   "metadata": {},
   "source": [
    "###  Генерируем простое число"
   ]
  },
  {
   "cell_type": "code",
   "execution_count": 3,
   "metadata": {},
   "outputs": [],
   "source": [
    "def get_prime_number():\n",
    "    while True:\n",
    "        number = random.randint(111, 999)\n",
    "        if  is_prime(number) is True: \n",
    "            return number"
   ]
  },
  {
   "cell_type": "code",
   "execution_count": 4,
   "metadata": {},
   "outputs": [],
   "source": [
    "def power(x, y, p):\n",
    "    res = 1\n",
    "    x = x % p\n",
    "    while (y > 0):\n",
    "        if (y & 1):\n",
    "            res = (res * x) % p\n",
    "        y = y >> 1\n",
    "        x = (x * x) % p\n",
    "    return res"
   ]
  },
  {
   "cell_type": "markdown",
   "metadata": {},
   "source": [
    "###  Проверка на простоту"
   ]
  },
  {
   "cell_type": "code",
   "execution_count": 5,
   "metadata": {},
   "outputs": [],
   "source": [
    "def is_prime(n):\n",
    "    if n == 2:\n",
    "        return True\n",
    "    if n % 2 == 0 or n <= 1:\n",
    "        return False\n",
    "\n",
    "    sqr = int(math.sqrt(n)) + 1\n",
    "\n",
    "    for divisor in range(3, sqr, 2):\n",
    "        if n % divisor == 0:\n",
    "            return False\n",
    "    return True"
   ]
  },
  {
   "cell_type": "code",
   "execution_count": 6,
   "metadata": {},
   "outputs": [],
   "source": [
    "def encrypt(message, key):\n",
    "    encrypt_message = []\n",
    "    for m in message:\n",
    "        encrypt_message.append(pow(ord(m), key[0]) % key[1])\n",
    "    return encrypt_message"
   ]
  },
  {
   "cell_type": "code",
   "execution_count": 7,
   "metadata": {},
   "outputs": [],
   "source": [
    "def decrypt(message, key):\n",
    "    decrypt_message = ''\n",
    "    for m in message:\n",
    "        decrypt_message += chr(pow(m, key[0]) % key[1])\n",
    "    return decrypt_message"
   ]
  },
  {
   "cell_type": "code",
   "execution_count": 8,
   "metadata": {},
   "outputs": [
    {
     "name": "stdout",
     "output_type": "stream",
     "text": [
      "Public Key: [5, 519697]\n",
      "Private Key: [414605, 519697]\n",
      "Encrypted message:  [474588, 293824, 486127, 65590, 472337, 127266, 293824, 118796, 140050, 334140, 334140, 127266]\n",
      "Decrypted message: Я хочу пиццу\n"
     ]
    }
   ],
   "source": [
    "public_key, private_key = RSA(get_prime_number(), get_prime_number())\n",
    "\n",
    "print('Public Key:', public_key)\n",
    "print('Private Key:', private_key)\n",
    "\n",
    "text = \"Я хочу пиццу\"\n",
    "\n",
    "encrypted_text = encrypt(text, public_key)\n",
    "print(\"Encrypted message: \", encrypted_text)\n",
    "decrypted_text = decrypt(encrypted_text, private_key)\n",
    "print('Decrypted message:', decrypted_text)"
   ]
  },
  {
   "cell_type": "code",
   "execution_count": null,
   "metadata": {},
   "outputs": [],
   "source": []
  }
 ],
 "metadata": {
  "kernelspec": {
   "display_name": "Python 3",
   "language": "python",
   "name": "python3"
  },
  "language_info": {
   "codemirror_mode": {
    "name": "ipython",
    "version": 3
   },
   "file_extension": ".py",
   "mimetype": "text/x-python",
   "name": "python",
   "nbconvert_exporter": "python",
   "pygments_lexer": "ipython3",
   "version": "3.7.4"
  }
 },
 "nbformat": 4,
 "nbformat_minor": 2
}
