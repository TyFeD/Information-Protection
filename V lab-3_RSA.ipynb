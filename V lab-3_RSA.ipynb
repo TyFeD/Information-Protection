{
 "cells": [
  {
   "cell_type": "code",
   "execution_count": 1,
   "metadata": {},
   "outputs": [],
   "source": [
    "import random\n",
    "import math"
   ]
  },
  {
   "cell_type": "markdown",
   "metadata": {},
   "source": [
    "1) вычисляем произведение двух взаимнопростых чисел  \n",
    "2) Вычисляем ф-цию Эйлера  \n",
    "3) Выбираем число *e*, такое что:   \n",
    "    1. оно простое\n",
    "    2. должно быть меньше значения ф-ции Эйлера\n",
    "    3. оно взаимно простое с ф-цией Эйлера"
   ]
  },
  {
   "cell_type": "code",
   "execution_count": 2,
   "metadata": {},
   "outputs": [],
   "source": [
    "def RSA(p, q):\n",
    "    n = p * q\n",
    "    \n",
    "    f = (p - 1) * (q - 1)\n",
    "    \n",
    "    e = 0\n",
    "    \n",
    "    for i in range(2, f):\n",
    "        if math.gcd(i, f) == 1: # ф-ция возвращающая НОД \n",
    "            e = i\n",
    "            break\n",
    "    d = 0\n",
    "    \n",
    "    for i in range(f):\n",
    "        x = 1+(i*f)\n",
    "        if x % e == 0:\n",
    "            d = int(x / e)\n",
    "            break\n",
    "            \n",
    "    return [e, n], [d, n]"
   ]
  },
  {
   "cell_type": "code",
   "execution_count": 3,
   "metadata": {},
   "outputs": [],
   "source": [
    "def get_prime_number():\n",
    "    while True:\n",
    "        number = random.randint(111, 999)\n",
    "        if  miller_rabin(number,100) is True: \n",
    "            return number"
   ]
  },
  {
   "cell_type": "code",
   "execution_count": 4,
   "metadata": {},
   "outputs": [],
   "source": [
    "def miller_rabin(n, k):\n",
    "\n",
    "    if n == 2:\n",
    "        return True\n",
    "\n",
    "    if n % 2 == 0:\n",
    "        return False\n",
    "\n",
    "    r, s = 0, n - 1\n",
    "    \n",
    "    while s % 2 == 0:\n",
    "        r += 1\n",
    "        s //= 2\n",
    "        \n",
    "    for _ in range(k):\n",
    "        a = random.randrange(2, n - 1)\n",
    "        x = pow(a, s, n)\n",
    "        \n",
    "        if x == 1 or x == n - 1:\n",
    "            continue\n",
    "            \n",
    "        for _ in range(r - 1):\n",
    "            x = pow(x, 2, n)\n",
    "            if x == n - 1:\n",
    "                break\n",
    "        else:\n",
    "            return False\n",
    "        \n",
    "    return True"
   ]
  },
  {
   "cell_type": "code",
   "execution_count": 5,
   "metadata": {},
   "outputs": [],
   "source": [
    "def encrypt(text, key):\n",
    "    encrypt_text = []\n",
    "    for m in text:\n",
    "        encrypt_text.append(pow(ord(m), key[0]) % key[1])\n",
    "    return encrypt_text"
   ]
  },
  {
   "cell_type": "code",
   "execution_count": 6,
   "metadata": {},
   "outputs": [],
   "source": [
    "def decrypt(text, key):\n",
    "    decrypt_text = ''\n",
    "    for m in text:\n",
    "        decrypt_text += chr(pow(m, key[0]) % key[1])\n",
    "    return decrypt_text"
   ]
  },
  {
   "cell_type": "code",
   "execution_count": 7,
   "metadata": {},
   "outputs": [
    {
     "name": "stdout",
     "output_type": "stream",
     "text": [
      "Public Key: [3, 277033]\n",
      "Private Key: [183979, 277033]\n"
     ]
    }
   ],
   "source": [
    "public_key, private_key = RSA(get_prime_number(), get_prime_number())\n",
    "\n",
    "print('Public Key:', public_key)\n",
    "print('Private Key:', private_key)"
   ]
  },
  {
   "cell_type": "code",
   "execution_count": 8,
   "metadata": {},
   "outputs": [],
   "source": [
    "text = \"Я хочу пиццу\""
   ]
  },
  {
   "cell_type": "code",
   "execution_count": 9,
   "metadata": {},
   "outputs": [
    {
     "name": "stdout",
     "output_type": "stream",
     "text": [
      "Encrypted text:  [116589, 32768, 94828, 100497, 72988, 142900, 32768, 40515, 42949, 80626, 80626, 142900]\n",
      "Decrypted text: Я хочу пиццу\n"
     ]
    }
   ],
   "source": [
    "encrypted_text = encrypt(text, public_key)\n",
    "print(\"Encrypted text: \", encrypted_text)\n",
    "\n",
    "decrypted_text = decrypt(encrypted_text, private_key)\n",
    "print('Decrypted text:', decrypted_text)"
   ]
  }
 ],
 "metadata": {
  "kernelspec": {
   "display_name": "Python 3",
   "language": "python",
   "name": "python3"
  },
  "language_info": {
   "codemirror_mode": {
    "name": "ipython",
    "version": 3
   },
   "file_extension": ".py",
   "mimetype": "text/x-python",
   "name": "python",
   "nbconvert_exporter": "python",
   "pygments_lexer": "ipython3",
   "version": "3.7.4"
  }
 },
 "nbformat": 4,
 "nbformat_minor": 2
}
